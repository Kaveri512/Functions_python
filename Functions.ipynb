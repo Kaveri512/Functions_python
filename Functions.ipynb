{
  "nbformat": 4,
  "nbformat_minor": 0,
  "metadata": {
    "colab": {
      "provenance": [],
      "authorship_tag": "ABX9TyMS07GNx6hVI8AY/ThRqvG1",
      "include_colab_link": true
    },
    "kernelspec": {
      "name": "python3",
      "display_name": "Python 3"
    },
    "language_info": {
      "name": "python"
    }
  },
  "cells": [
    {
      "cell_type": "markdown",
      "metadata": {
        "id": "view-in-github",
        "colab_type": "text"
      },
      "source": [
        "<a href=\"https://colab.research.google.com/github/Kaveri512/Functions_python/blob/main/Functions.ipynb\" target=\"_parent\"><img src=\"https://colab.research.google.com/assets/colab-badge.svg\" alt=\"Open In Colab\"/></a>"
      ]
    },
    {
      "cell_type": "markdown",
      "source": [
        "#Functions"
      ],
      "metadata": {
        "id": "-ovV7CDDFIHV"
      }
    },
    {
      "cell_type": "markdown",
      "source": [
        "**Theoretical Questions**"
      ],
      "metadata": {
        "id": "CVKiudNbFMWv"
      }
    },
    {
      "cell_type": "markdown",
      "source": [
        "1. What is the difference between a function and a method in Python?\n",
        "   - In Python, a **function** is a block of reusable code defined independently using the `def` keyword and can be called on its own to perform a specific task. A **method**, on the other hand, is a function that is associated with an object and is defined within a class. While functions are called independently, methods are called on objects using dot notation and usually take the object itself (`self`) as the first parameter. In essence, methods are functions that belong to objects, whereas regular functions do not.\n",
        "\n",
        "2. Explain the concept of function arguments and parameters in Python.\n",
        "   - In Python, **parameters** are the variables listed in a function's definition, while **arguments** are the actual values passed to the function when it is called. Parameters act as placeholders that receive the values of arguments. For example, in the function `def greet(name):`, `name` is a parameter. When you call `greet(\"Alice\")`, `\"Alice\"` is the argument. Python supports different types of arguments, such as positional arguments, keyword arguments, default arguments, and variable-length arguments. This flexibility allows functions to handle a variety of input formats and use cases.\n",
        "\n",
        "3. What are the different ways to define and call a function in Python?\n",
        "   - In Python, functions can be defined and called in several ways, offering flexibility in how they are used. The most common way to define a function is using the `def` keyword followed by the function name and parameters. For example, `def greet(name):` defines a simple function. Functions can also be defined using `lambda` for short, anonymous functions (e.g., `lambda x: x * 2`). Once defined, a function is called by writing its name followed by parentheses, optionally passing arguments (e.g., `greet(\"Alice\")`). Python allows calling functions using **positional arguments** (based on order), **keyword arguments** (using key-value format like `greet(name=\"Alice\")`), **default arguments** (where parameters have default values), and **variable-length arguments** using `*args` for multiple positional arguments or `**kwargs` for multiple keyword arguments. These different ways of defining and calling functions make Python functions powerful and versatile.\n",
        "\n",
        "4. What is the purpose of the `return` statement in a Python function?\n",
        "   - The `return` statement in a Python function is used to send a value back to the caller after the function has completed its task. It marks the end of the function's execution and optionally provides the result of the computation. Without a `return` statement, a function returns `None` by default. Using `return` allows the function to produce output that can be stored in a variable, printed, or used in further expressions. For example, in `def add(a, b): return a + b`, the `return` statement outputs the sum of `a` and `b` to wherever the function is called.\n",
        "\n",
        "5. What are iterators in Python and how do they differ from iterables?\n",
        "   - In Python, an **iterator** is an object that represents a stream of data and returns one element at a time when the `next()` function is called. It keeps track of its position and raises a `StopIteration` exception when there are no more items to return. An **iterable**, on the other hand, is any object capable of returning its elements one at a time, such as lists, tuples, strings, or sets. You can get an iterator from an iterable using the `iter()` function. The main difference is that **iterables can be looped over**, but **only iterators have the ability to remember their position** in the iteration. All iterators are iterable, but not all iterables are iterators.\n",
        "\n",
        "6. Explain the concept of generators in Python and how they are defined.\n",
        "   - In Python, **generators** are a special type of iterator that allow you to iterate over data one item at a time, but unlike regular functions, they **generate values on the fly** using the `yield` keyword instead of `return`. Generators are memory-efficient because they don't store all values in memory; they produce items only when needed. A generator is defined like a normal function using the `def` keyword, but it contains one or more `yield` statements. When the generator function is called, it returns a generator object without executing the function immediately. Each time `next()` is called on the generator, execution resumes from where it left off, continuing until the next `yield`. For example:\n",
        "\n",
        "def count_up_to(n):\n",
        "    i = 1\n",
        "    while i <= n:\n",
        "        yield i\n",
        "        i += 1\n",
        "\n",
        "Calling `count_up_to(3)` returns a generator that yields 1, then 2, then 3. This makes generators ideal for handling large datasets or infinite sequences efficiently.\n",
        "\n",
        "\n",
        "7. What are the advantages of using generators over regular functions?\n",
        " - Generators offer several advantages over regular functions, especially when working with large data sets or streams of data:\n",
        "\n",
        "    1. **Memory Efficiency**: Generators produce values one at a time using the `yield` keyword, so they do not store the entire sequence in memory. This makes them ideal for processing large or infinite data sets.\n",
        "\n",
        "    2. **Lazy Evaluation**: Generators compute values only when needed, which can lead to performance improvements and reduced computation time when not all results are required at once.\n",
        "\n",
        "    3. **Simpler Code for Iteration**: Generators simplify the implementation of iterators. You do not need to write classes with `__iter__()` and `__next__()` methods—just use `yield` inside a function.\n",
        "\n",
        "    4. **Improved Performance**: Because generators avoid the overhead of storing all intermediate results in memory, they often run faster and use less CPU for large loops or sequences.\n",
        "\n",
        "    5. **State Preservation**: Generators automatically save their execution state between `yield`s, making it easier to maintain complex iteration logic without manually tracking state.\n",
        "\n",
        "In summary, generators provide a clean, efficient, and pythonic way to iterate over data without the memory and performance costs of generating all values at once.\n",
        "\n",
        "\n",
        "8. What is a lambda function in Python and when is it typically used?\n",
        "   -  Lambda functions are small, anonymous functions defined using the lambda keyword. They are used for creating small, throwaway functions without the need to formally define a function using def\n",
        "   Lambda functions are useful when you need a quick, throwaway function in places where defining a full function would be overkill.\n",
        "\n",
        "9. Explain the purpose and usage of the `map()` function in Python.\n",
        "   - The map() function in Python is used to apply a given function to each item in an iterable (like a list, tuple, or string) and return a new iterator with the results. Its main purpose is to transform data efficiently without writing explicit loops.\n",
        "\n",
        "10. What is the difference between `map()`, `reduce()`, and `filter()` functions in Python?\n",
        "   - The `map()`, `reduce()`, and `filter()` functions in Python are **higher-order functions** used for **functional-style programming**, and each serves a different purpose when working with iterables:\n",
        "\n",
        " `map()`\n",
        "\n",
        "* **Purpose:** Applies a function to **each item** in an iterable and returns a new iterable with the results.\n",
        "* **Use Case:** When you want to transform or modify elements.\n",
        "* **Example:**\n",
        "  nums = [1, 2, 3]\n",
        "  result = list(map(lambda x: x * 2, nums))  # [2, 4, 6]\n",
        "\n",
        "`filter()`\n",
        "\n",
        "* **Purpose:** Applies a function that returns `True` or `False` to each item, and returns only the items for which the function returns `True`.\n",
        "* **Use Case:** When you want to **filter out** elements based on a condition.\n",
        "* **Example:**\n",
        "  nums = [1, 2, 3, 4]\n",
        "  result = list(filter(lambda x: x % 2 == 0, nums))  # [2, 4]\n",
        "\n",
        " `reduce()`\n",
        "\n",
        "* **Purpose:** Applies a function **cumulatively** to the items of an iterable, reducing the iterable to a single value.\n",
        "* **Use Case:** When you want to **combine** all elements into one (e.g., sum, product).\n",
        "* **Requires:** Import from `functools`.\n",
        "* **Example:**\n",
        "\n",
        "  from functools import reduce\n",
        "  nums = [1, 2, 3, 4]\n",
        "  result = reduce(lambda x, y: x + y, nums)  # 10\n",
        "\n",
        "\n",
        "Each function is powerful in different contexts—`map()` for transformation, `filter()` for selection, and `reduce()` for aggregation.\n",
        "\n",
        "\n",
        "11. Using pen & Paper write the internal mechanism for sum operation using  reduce function on this given list:[47,11,42,13];\n",
        "(Attach paper image for this answer) in doc or colab notebook."
      ],
      "metadata": {
        "id": "J_VzsZlaFSEn"
      }
    },
    {
      "cell_type": "markdown",
      "source": [
        "**Practical Questions**"
      ],
      "metadata": {
        "id": "issuXsQSLQiF"
      }
    },
    {
      "cell_type": "code",
      "execution_count": null,
      "metadata": {
        "id": "Rr8wfX22E_-h",
        "colab": {
          "base_uri": "https://localhost:8080/"
        },
        "outputId": "9c362d56-665c-4ebb-d033-dde25ce6d3af"
      },
      "outputs": [
        {
          "output_type": "stream",
          "name": "stdout",
          "text": [
            "Enter a list of numbers separated by spaces: 12 35 78 100 87\n",
            "Sum of even numbers: 190\n"
          ]
        }
      ],
      "source": [
        "# 1. Write a Python function that takes a list of numbers as input and returns the sum of all even numbers in the list.\n",
        "def sum_even_numbers_from_input():\n",
        "    user_input = input(\"Enter a list of numbers separated by spaces: \")\n",
        "    numbers = list(map(int, user_input.split()))\n",
        "    even_sum = sum(num for num in numbers if num % 2 == 0)\n",
        "    return even_sum\n",
        "result = sum_even_numbers_from_input()\n",
        "print(\"Sum of even numbers:\", result)\n"
      ]
    },
    {
      "cell_type": "code",
      "source": [
        "# 2. Create a Python function that accepts a string and returns the reverse of that string.\n",
        "def reverse_string_from_input():\n",
        "    user_input = input(\"Enter a string: \")\n",
        "    reversed_string = user_input[::-1]\n",
        "    return reversed_string\n",
        "result = reverse_string_from_input()\n",
        "print(\"Reversed string:\", result)\n"
      ],
      "metadata": {
        "colab": {
          "base_uri": "https://localhost:8080/"
        },
        "id": "D4CAcqnjr6Mr",
        "outputId": "a5801c18-db93-4629-8ddb-48ac38050f26"
      },
      "execution_count": null,
      "outputs": [
        {
          "output_type": "stream",
          "name": "stdout",
          "text": [
            "Enter a string: vivek\n",
            "Reversed string: keviv\n"
          ]
        }
      ]
    },
    {
      "cell_type": "code",
      "source": [
        "# 3.  Implement a Python function that takes a list of integers and returns a new list containing the squares of each number.\n",
        "def square_numbers_from_input():\n",
        "    user_input = input(\"Enter a list of integers separated by spaces: \")\n",
        "    numbers = list(map(int, user_input.split()))\n",
        "    squares = [num ** 2 for num in numbers]\n",
        "    return squares\n",
        "result = square_numbers_from_input()\n",
        "print(\"List of squares:\", result)\n"
      ],
      "metadata": {
        "colab": {
          "base_uri": "https://localhost:8080/"
        },
        "id": "TNYbszFRswrM",
        "outputId": "23971ca6-adf6-4155-faf7-20411f03dc6b"
      },
      "execution_count": null,
      "outputs": [
        {
          "output_type": "stream",
          "name": "stdout",
          "text": [
            "Enter a list of integers separated by spaces: 2 5 8 10 25\n",
            "List of squares: [4, 25, 64, 100, 625]\n"
          ]
        }
      ]
    },
    {
      "cell_type": "code",
      "source": [
        "# 4. Write a Python function that checks if a given number is prime or not from 1 to 200.\n",
        "def is_prime_number():\n",
        "    # Take input from the user\n",
        "    num = int(input(\"Enter a number between 1 and 200: \"))\n",
        "\n",
        "    # Check if number is within valid range\n",
        "    if num < 1 or num > 200:\n",
        "        return \"Number out of range (1–200).\"\n",
        "\n",
        "    if num == 1:\n",
        "        return \"1 is not a prime number.\"\n",
        "\n",
        "    # Check for primality\n",
        "    for i in range(2, int(num ** 0.5) + 1):\n",
        "        if num % i == 0:\n",
        "            return f\"{num} is not a prime number.\"\n",
        "\n",
        "    return f\"{num} is a prime number.\"\n",
        "\n",
        "# Call the function and print the result\n",
        "result = is_prime_number()\n",
        "print(result)\n"
      ],
      "metadata": {
        "colab": {
          "base_uri": "https://localhost:8080/"
        },
        "id": "sQlL0e6Lt397",
        "outputId": "6f4b1712-c1dc-4fbd-f3d8-2f10cb256f38"
      },
      "execution_count": null,
      "outputs": [
        {
          "output_type": "stream",
          "name": "stdout",
          "text": [
            "Enter a number between 1 and 200: 67\n",
            "67 is a prime number.\n"
          ]
        }
      ]
    },
    {
      "cell_type": "code",
      "source": [
        "# 5. Create an iterator class in Python that generates the Fibonacci sequence up to a specified number of terms.\n",
        "class FibonacciIterator:\n",
        "    def __init__(self, max_terms):\n",
        "        self.max_terms = max_terms\n",
        "        self.count = 0\n",
        "        self.a, self.b = 0, 1\n",
        "\n",
        "    def __iter__(self):\n",
        "        return self\n",
        "\n",
        "    def __next__(self):\n",
        "        if self.count >= self.max_terms:\n",
        "            raise StopIteration\n",
        "        if self.count == 0:\n",
        "            self.count += 1\n",
        "            return 0\n",
        "        elif self.count == 1:\n",
        "            self.count += 1\n",
        "            return 1\n",
        "        else:\n",
        "            self.a, self.b = self.b, self.a + self.b\n",
        "            self.count += 1\n",
        "            return self.a\n",
        "\n",
        "num_terms = int(input(\"Enter the number of Fibonacci terms to generate: \"))\n",
        "\n",
        "fib_iter = FibonacciIterator(num_terms)\n",
        "\n",
        "print(\"Fibonacci sequence:\")\n",
        "for num in fib_iter:\n",
        "    print(num, end=' ')\n",
        "\n",
        "\n"
      ],
      "metadata": {
        "colab": {
          "base_uri": "https://localhost:8080/"
        },
        "id": "y2CvA3gRyYA2",
        "outputId": "4c4144fa-6c87-4829-dcfa-4037e0fc8947"
      },
      "execution_count": null,
      "outputs": [
        {
          "output_type": "stream",
          "name": "stdout",
          "text": [
            "Enter the number of Fibonacci terms to generate: 12\n",
            "Fibonacci sequence:\n",
            "0 1 1 1 2 3 5 8 13 21 34 55 "
          ]
        }
      ]
    },
    {
      "cell_type": "code",
      "source": [
        "# 6. Write a generator function in Python that yields the powers of 2 up to a given exponent.\n",
        "def powers_of_two(n):\n",
        "    for i in range(n + 1):\n",
        "        yield 2 ** i\n",
        "max_exponent = int(input(\"Enter the maximum exponent: \"))\n",
        "\n",
        "print(f\"Powers of 2 from 2^0 to 2^{max_exponent}:\")\n",
        "for power in powers_of_two(max_exponent):\n",
        "    print(power, end=' ')\n"
      ],
      "metadata": {
        "colab": {
          "base_uri": "https://localhost:8080/"
        },
        "id": "iFgWHcvBzkZ2",
        "outputId": "76506421-155c-41a1-ba7f-40d41b9a6d84"
      },
      "execution_count": null,
      "outputs": [
        {
          "output_type": "stream",
          "name": "stdout",
          "text": [
            "Enter the maximum exponent: 5\n",
            "Powers of 2 from 2^0 to 2^5:\n",
            "1 2 4 8 16 32 "
          ]
        }
      ]
    },
    {
      "cell_type": "code",
      "source": [
        "# 7.  Implement a generator function that reads a file line by line and yields each line as a string.\n",
        "file_path = 'example.txt'\n",
        "\n",
        "for line in read_file_line_by_line(file_path):\n",
        "    print(line)\n"
      ],
      "metadata": {
        "id": "o00OT7-a0Uct",
        "colab": {
          "base_uri": "https://localhost:8080/"
        },
        "outputId": "ce30e2ed-285c-44fd-a84e-44148e1bfa19"
      },
      "execution_count": 3,
      "outputs": [
        {
          "output_type": "stream",
          "name": "stdout",
          "text": [
            "Error: File 'example.txt' not found.\n"
          ]
        }
      ]
    },
    {
      "cell_type": "code",
      "source": [
        "# 8. Use a lambda function in Python to sort a list of tuples based on the second element of each tuple.\n",
        "\n",
        "students = [(\"Alice\", 88), (\"Bob\", 75), (\"Charlie\", 93), (\"David\", 85)]\n",
        "\n",
        "sorted_students = sorted(students, key=lambda x: x[1])\n",
        "\n",
        "print(sorted_students)\n"
      ],
      "metadata": {
        "colab": {
          "base_uri": "https://localhost:8080/"
        },
        "id": "fE9UmA5SDv37",
        "outputId": "3875267c-864e-4e58-ee60-7819bc43beb7"
      },
      "execution_count": 4,
      "outputs": [
        {
          "output_type": "stream",
          "name": "stdout",
          "text": [
            "[('Bob', 75), ('David', 85), ('Alice', 88), ('Charlie', 93)]\n"
          ]
        }
      ]
    },
    {
      "cell_type": "code",
      "source": [
        "# 9.  Write a Python program that uses `map()` to convert a list of temperatures from Celsius to Fahrenheit.\n",
        "# List of temperatures in Celsius\n",
        "celsius_temps = [0, 20, 30, 37, 100]\n",
        "\n",
        "# Lambda function to convert Celsius to Fahrenheit\n",
        "# Formula: (C × 9/5) + 32 = F\n",
        "fahrenheit_temps = list(map(lambda c: (c * 9/5) + 32, celsius_temps))\n",
        "\n",
        "print(\"Temperatures in Fahrenheit:\", fahrenheit_temps)\n"
      ],
      "metadata": {
        "colab": {
          "base_uri": "https://localhost:8080/"
        },
        "id": "wQElCkZIELV6",
        "outputId": "995fbbfe-93ea-4c36-8967-eed5fef8fd41"
      },
      "execution_count": 5,
      "outputs": [
        {
          "output_type": "stream",
          "name": "stdout",
          "text": [
            "Temperatures in Fahrenheit: [32.0, 68.0, 86.0, 98.6, 212.0]\n"
          ]
        }
      ]
    },
    {
      "cell_type": "code",
      "source": [
        "# 10.  Create a Python program that uses `filter()` to remove all the vowels from a given string.\n",
        "# Function to check if a character is not a vowel\n",
        "def is_not_vowel(char):\n",
        "    return char.lower() not in 'aeiou'\n",
        "\n",
        "user_input = input(\"Enter a string: \")\n",
        "\n",
        "# Use filter() to remove vowels\n",
        "filtered_chars = filter(is_not_vowel, user_input)\n",
        "\n",
        "# Join the characters back into a string\n",
        "result = ''.join(filtered_chars)\n",
        "\n",
        "print(\"String without vowels:\", result)\n"
      ],
      "metadata": {
        "colab": {
          "base_uri": "https://localhost:8080/"
        },
        "id": "eOjzSRUXEf7U",
        "outputId": "32506412-6ee2-4ae5-e0e4-674ef696286b"
      },
      "execution_count": 6,
      "outputs": [
        {
          "output_type": "stream",
          "name": "stdout",
          "text": [
            "Enter a string: Mornings are beautiful\n",
            "String without vowels: Mrnngs r btfl\n"
          ]
        }
      ]
    }
  ]
}